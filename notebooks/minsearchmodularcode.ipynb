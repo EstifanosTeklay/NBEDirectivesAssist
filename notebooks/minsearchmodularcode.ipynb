{
 "cells": [
  {
   "cell_type": "code",
   "execution_count": 133,
   "id": "8b6d9f75-cc73-4e33-8ecc-e7cf7da68f2c",
   "metadata": {
    "scrolled": true
   },
   "outputs": [
    {
     "name": "stdout",
     "output_type": "stream",
     "text": [
      "Based on the provided text, it can be inferred that the impact of the foreign exchange directive for Ethiopian banks is significant. The directive aims to regulate and standardize the foreign exchange market in Ethiopia, ensuring transparency, stability, and efficiency in foreign exchange transactions.\n",
      "\n",
      "Some of the impacts of the directive on Ethiopian banks include:\n",
      "\n",
      "1. Regulation of foreign exchange transactions: The directive establishes regulations for foreign exchange transactions, including reporting requirements, exchange rates, and usage of foreign currencies.\n",
      "2. Standardization of exchange rates: The directive introduces the concept of the indicative daily exchange rate, which serves as a reference price for foreign exchange transactions. This helps to standardize exchange rates and ensures that banks are using the same rates for their transactions.\n",
      "3. Increased transparency: The directive requires banks to report their exchange rates and foreign exchange transactions, providing more transparency and accountability in the foreign exchange market.\n",
      "4. Reduced liquidity risks: The directive's requirement for banks to report their exchange rates and foreign exchange transactions helps to reduce liquidity risks by providing a more accurate picture of market conditions and exchange rates.\n",
      "5. Enhanced risk management: The directive's regulations on foreign exchange transactions, including the use of hedges and the management of foreign exchange risk, help to enhance risk management practices in Ethiopian banks.\n",
      "6. Support for the development of the foreign exchange market: The directive's support for the development of the interbank foreign exchange market, including the requirement for banks to repatriate foreign exchange earnings, helps to promote the growth and stability of the foreign exchange market in Ethiopia.\n",
      "\n",
      "Overall, the foreign exchange directive has a significant impact on Ethiopian banks, promoting transparency, stability, and efficiency in foreign exchange transactions.\n"
     ]
    }
   ],
   "source": [
    "import minsearch\n",
    "import os\n",
    "import json\n",
    "from groq import Groq"
   ]
  },
  {
   "cell_type": "code",
   "execution_count": 169,
   "id": "91fe8483-e226-4e37-adf8-86829ee59564",
   "metadata": {},
   "outputs": [],
   "source": [
    "def process_json_files_and_index(json_folder_path):\n",
    "    \"\"\"\n",
    "    This function reads all JSON files from the specified directory, extracts documents,\n",
    "    and indexes them using the `minsearch` library.\n",
    "\n",
    "    Args:\n",
    "        json_folder_path (str): The directory containing JSON files.\n",
    "\n",
    "    Returns:\n",
    "        index: The indexed documents.\n",
    "    \"\"\"\n",
    "\n",
    "    # List to hold all documents from all JSON files\n",
    "    all_documents = []\n",
    "\n",
    "    # Loop through each JSON file in the directory\n",
    "    for json_file in os.listdir(json_folder_path):\n",
    "        if json_file.endswith(\".json\"):\n",
    "            json_file_path = os.path.join(json_folder_path, json_file)\n",
    "            with open(json_file_path, 'rt', encoding='utf-8') as f_in:\n",
    "                docs_raw = json.load(f_in)\n",
    "\n",
    "            # Extract documents from the current JSON file\n",
    "            documents = []\n",
    "            for directive_id_dict in docs_raw:\n",
    "                for doc in directive_id_dict['sections']:\n",
    "                    # Add additional fields to the doc\n",
    "                    doc['document_id'] = directive_id_dict['document_id']\n",
    "                    doc['title'] = directive_id_dict['title']\n",
    "                    documents.append(doc)\n",
    "\n",
    "            # Append documents from this file to the global list\n",
    "            all_documents.extend(documents)\n",
    "\n",
    "    # Index the documents (from all files)\n",
    "    index = minsearch.Index(\n",
    "        text_fields=[\"section_title\", \"content\", \"title\"],\n",
    "        keyword_fields=[\"document_id\"]\n",
    "    )\n",
    "\n",
    "    # Index the combined documents\n",
    "    index.fit(all_documents)\n",
    "    \n",
    "    return index\n",
    "\n",
    "\n",
    "json_folder_path = 'D:\\\\NBEDirectivesAssist\\\\ConvertedToJson\\\\'"
   ]
  },
  {
   "cell_type": "code",
   "execution_count": 164,
   "id": "fb0445f3-1f38-48d4-94dc-ae5345107db4",
   "metadata": {},
   "outputs": [],
   "source": [
    "def search(query):\n",
    "    # Boosting specific fields\n",
    "    boost = {'content': 10.0, 'title': 2, 'section_title': 0.5}\n",
    "\n",
    "   # Search for the query, filtering by a specific directive\n",
    "    result = index.search(\n",
    "    query=q,\n",
    "    boost_dict=boost,\n",
    "    num_results=5,\n",
    "    filter_dict={'title': 'Asset Classification and Provisioning Directive'}\n",
    "    )\n",
    "    return result"
   ]
  },
  {
   "cell_type": "code",
   "execution_count": 165,
   "id": "7d5ae697-df40-4c41-8459-77cdb4ceff2e",
   "metadata": {},
   "outputs": [],
   "source": [
    "def build_prompt(query,search_results):\n",
    "    # Create the prompt for the LLM\n",
    "    prompt_template = \"\"\"\n",
    "You're National Bank of Ethiopia Directives assistant. Answer the QUESTION based on the CONTEXT from the directive document.\n",
    "Use  facts from the CONTEXT when answering the QUESTION.\n",
    "If the CONTEXT does not contain the answer, Answer from your general knowledge.\n",
    "\n",
    "QUESTION: {question}\n",
    "CONTEXT: {context}\n",
    "     \"\"\".strip()\n",
    "\n",
    "# Generate the context from the search results\n",
    "    context = \"\"\n",
    "\n",
    "    for doc in search_results:\n",
    "        context += f\"section_id: {doc['section_id']}\\nsection_title: {doc['section_title']}\\npage_number: {doc['page_number']}\\ncontent: {doc['content']}\\ndocument_id: {doc['document_id']}\\ntitle: {doc['title']}\\n\\n\"\n",
    "\n",
    "# Format the prompt\n",
    "    prompt = prompt_template.format(question=query, context=context).strip()\n",
    "    return prompt"
   ]
  },
  {
   "cell_type": "code",
   "execution_count": 166,
   "id": "f8a0a6b5-181c-43f0-bc09-65eba448340f",
   "metadata": {},
   "outputs": [],
   "source": [
    "def llm(prompt):\n",
    "    # Initialize Groq client\n",
    "    client = Groq(api_key=\"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\")\n",
    "\n",
    "# Get the answer from the LLM model\n",
    "    chat_completion = client.chat.completions.create(\n",
    "        messages=[\n",
    "        {\n",
    "            \"role\": \"user\",\n",
    "            \"content\": prompt,\n",
    "        }\n",
    "    ],\n",
    "    model=\"llama3-8b-8192\",\n",
    "    )\n",
    "    llm_answer=chat_completion.choices[0].message.content\n",
    "# return the reslut\n",
    "    return llm_answer"
   ]
  },
  {
   "cell_type": "code",
   "execution_count": 170,
   "id": "c9a9737f-9740-4c76-b257-558e0536963a",
   "metadata": {},
   "outputs": [],
   "source": [
    "def rag(query):\n",
    "    index = process_json_files_and_index(json_folder_path)\n",
    "    search_results=search(query)\n",
    "    prompt=build_prompt(query,search_results)\n",
    "    answer=llm(prompt)\n",
    "    return(answer)"
   ]
  },
  {
   "cell_type": "code",
   "execution_count": 172,
   "id": "93b9eb5c-a343-437c-b1ae-abdc3b8263c6",
   "metadata": {},
   "outputs": [
    {
     "data": {
      "text/plain": [
       "'Based on the context, the impact of the foreign exchange directive in the Ethiopian banking industry is not explicitly mentioned. However, we can infer that the directive aims to regulate the foreign exchange market and ensure the efficient and transparent operation of foreign exchange transactions.\\n\\nThe directive establishes an inter-bank foreign exchange market, which allows banks to buy and sell foreign currencies among themselves at freely negotiated rates. This may improve liquidity in the foreign exchange market, making it easier for banks to facilitate foreign exchange transactions.\\n\\nAdditionally, the directive requires banks to report their exchange rates to the NBE and to maintain Foreign Exchange Retention Accounts for exporters. This may help to improve transparency in the foreign exchange market and ensure that exporters are able to retain a portion of their foreign exchange earnings.\\n\\nOverall, the foreign exchange directive aims to promote a more orderly and efficient foreign exchange market in Ethiopia, which may benefit banks and other market participants by reducing uncertainty and risk.'"
      ]
     },
     "execution_count": 172,
     "metadata": {},
     "output_type": "execute_result"
    }
   ],
   "source": [
    "rag('what is the impact of foring exchange directive in Ethiopian banking industry?')"
   ]
  },
  {
   "cell_type": "code",
   "execution_count": null,
   "id": "acdb758b-e8c6-481e-b1ff-70c79c4ff269",
   "metadata": {},
   "outputs": [],
   "source": []
  }
 ],
 "metadata": {
  "kernelspec": {
   "display_name": "Python 3 (ipykernel)",
   "language": "python",
   "name": "python3"
  },
  "language_info": {
   "codemirror_mode": {
    "name": "ipython",
    "version": 3
   },
   "file_extension": ".py",
   "mimetype": "text/x-python",
   "name": "python",
   "nbconvert_exporter": "python",
   "pygments_lexer": "ipython3",
   "version": "3.11.7"
  }
 },
 "nbformat": 4,
 "nbformat_minor": 5
}
