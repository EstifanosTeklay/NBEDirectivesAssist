{
 "cells": [
  {
   "cell_type": "code",
   "execution_count": 71,
   "id": "e5207c87-d25d-46d4-9022-7150ea563a9a",
   "metadata": {},
   "outputs": [],
   "source": [
    "import os\n",
    "import json\n",
    "from groq import Groq\n",
    "from elasticsearch import Elasticsearch\n",
    "from tqdm import tqdm  # tqdm used for progress visualization\n"
   ]
  },
  {
   "cell_type": "code",
   "execution_count": 72,
   "id": "efb4b6b5-0f87-47d4-8f87-cc0d961bda84",
   "metadata": {},
   "outputs": [],
   "source": [
    "# Directory containing all JSON files\n",
    "json_folder_path = 'D:\\\\NBEDirectivesAssist\\\\ConvertedToJson\\\\'\n",
    "\n",
    "# List to hold all documents from all JSON files\n",
    "all_documents = []\n",
    "\n",
    "# Loop through each JSON file in the directory\n",
    "for json_file in os.listdir(json_folder_path):\n",
    "    if json_file.endswith(\".json\"):\n",
    "        json_file_path = os.path.join(json_folder_path, json_file)\n",
    "        with open(json_file_path, 'rt', encoding='utf-8') as f_in:\n",
    "            docs_raw = json.load(f_in)\n",
    "        \n",
    "        # Extract documents from the current JSON file\n",
    "        documents = []\n",
    "        for directive_id_dict in docs_raw:\n",
    "            for doc in directive_id_dict['sections']:\n",
    "                # Add additional fields to the doc\n",
    "                doc['document_id'] = directive_id_dict['document_id']\n",
    "                doc['title'] = directive_id_dict['title']\n",
    "                documents.append(doc)\n",
    "\n",
    "        # Append documents from this file to the global list\n",
    "        all_documents.extend(documents)"
   ]
  },
  {
   "cell_type": "code",
   "execution_count": 73,
   "id": "7d5ae697-df40-4c41-8459-77cdb4ceff2e",
   "metadata": {},
   "outputs": [],
   "source": [
    "def build_prompt(query,search_results):\n",
    "    # Create the prompt for the LLM\n",
    "    prompt_template = \"\"\"\n",
    "You're National Bank of Ethiopia Directives assistant. Answer the QUESTION based on the CONTEXT from the directive document.\n",
    "Use  facts from the CONTEXT when answering the QUESTION.\n",
    "If the CONTEXT does not contain the answer, Answer from your general knowledge.\n",
    "\n",
    "QUESTION: {question}\n",
    "CONTEXT: {context}\n",
    "     \"\"\".strip()\n",
    "\n",
    "# Generate the context from the search results\n",
    "    context = \"\"\n",
    "\n",
    "    for doc in search_results:\n",
    "        context += f\"section_id: {doc['section_id']}\\nsection_title: {doc['section_title']}\\npage_number: {doc['page_number']}\\ncontent: {doc['content']}\\ndocument_id: {doc['document_id']}\\ntitle: {doc['title']}\\n\\n\"\n",
    "\n",
    "# Format the prompt\n",
    "    prompt = prompt_template.format(question=query, context=context).strip()\n",
    "    return prompt"
   ]
  },
  {
   "cell_type": "code",
   "execution_count": 74,
   "id": "f8a0a6b5-181c-43f0-bc09-65eba448340f",
   "metadata": {},
   "outputs": [],
   "source": [
    "def llm(prompt):\n",
    "    # Initialize Groq client\n",
    "    client = Groq(api_key=\"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\")\n",
    "\n",
    "# Get the answer from the LLM model\n",
    "    chat_completion = client.chat.completions.create(\n",
    "        messages=[\n",
    "        {\n",
    "            \"role\": \"user\",\n",
    "            \"content\": prompt,\n",
    "        }\n",
    "    ],\n",
    "    model=\"llama3-8b-8192\",\n",
    "    )\n",
    "    llm_answer=chat_completion.choices[0].message.content\n",
    "# return the reslut\n",
    "    return llm_answer"
   ]
  },
  {
   "cell_type": "code",
   "execution_count": 53,
   "id": "0a1cb877-15f5-4d9f-b19b-6ad03a58cf55",
   "metadata": {},
   "outputs": [
    {
     "data": {
      "text/plain": [
       "ObjectApiResponse({'acknowledged': True, 'shards_acknowledged': True, 'index': 'directivesanalyi'})"
      ]
     },
     "execution_count": 53,
     "metadata": {},
     "output_type": "execute_result"
    }
   ],
   "source": [
    "# Initialize Elasticsearch client\n",
    "es_client = Elasticsearch('http://localhost:9200')\n",
    "\n",
    "# Define index settings and mappings\n",
    "index_settings = {\n",
    "    \"settings\": {\n",
    "        \"number_of_shards\": 1,\n",
    "        \"number_of_replicas\": 0\n",
    "    },\n",
    "    \"mappings\": {\n",
    "        \"properties\": {\n",
    "            \"title\": {\"type\": \"text\"},\n",
    "            \"section_title\": {\"type\": \"text\"},\n",
    "            \"content\": {\"type\": \"text\"},\n",
    "            \"document_id\": {\"type\": \"keyword\"},\n",
    "            \"section_id\": {\"type\": \"integer\"}  # This section is the only integer field\n",
    "        }\n",
    "    }\n",
    "}\n",
    "\n",
    "# Create index\n",
    "index_name = \"directivesanalyi\"\n",
    "es_client.indices.create(index=index_name, body=index_settings)"
   ]
  },
  {
   "cell_type": "code",
   "execution_count": 54,
   "id": "64e62c0d-8079-4f91-82d4-85aceb24745d",
   "metadata": {},
   "outputs": [
    {
     "name": "stderr",
     "output_type": "stream",
     "text": [
      "100%|██████████| 295/295 [00:16<00:00, 17.68it/s]\n"
     ]
    }
   ],
   "source": [
    "# Index documents (`all_documents` is a list of dictionaries)\n",
    "\n",
    "for doc in tqdm(all_documents):\n",
    "    es_client.index(index=index_name, document=doc)"
   ]
  },
  {
   "cell_type": "code",
   "execution_count": 76,
   "id": "7f150a0c-d5db-42ca-80f0-8a7edfd1020a",
   "metadata": {},
   "outputs": [],
   "source": [
    "# Search query\n",
    "def elastic_search(query):\n",
    "    search_query = {\n",
    "        \"size\": 5,\n",
    "        \"query\": {\n",
    "            \"bool\": {\n",
    "                \"must\": {\n",
    "                    \"multi_match\": {\n",
    "                        \"query\": query,\n",
    "                        \"fields\": [\"content^10\", \"title\", \"section_title\", \"document_id\"],  # Only text fields\n",
    "                        \"type\": \"best_fields\"\n",
    "                    }\n",
    "                }\n",
    "            }\n",
    "        }\n",
    "    }\n",
    "\n",
    "# Perform search\n",
    "    response = es_client.search(index=index_name, body=search_query)\n",
    "    result_docs=[]\n",
    "    for hit in response['hits']['hits']:\n",
    "        result_docs.append(hit['_source'])\n",
    "    return result_docs"
   ]
  },
  {
   "cell_type": "code",
   "execution_count": 78,
   "id": "c1be7606-a6c6-4a49-ad8b-423bf70ccc9c",
   "metadata": {},
   "outputs": [],
   "source": [
    "def rag(query):\n",
    "    search_results=elastic_search(query)\n",
    "    prompt=build_prompt(query,search_results)\n",
    "    answer=llm(prompt)\n",
    "    return(answer)"
   ]
  },
  {
   "cell_type": "code",
   "execution_count": 83,
   "id": "f97074a5-dba5-4e51-9488-afa08bdb4905",
   "metadata": {},
   "outputs": [
    {
     "data": {
      "text/plain": [
       "'Based on the provided context from Section 5 of the Foreign Exchange Directive, the principles that govern foreign exchange rate determination are:\\n\\n1. Banks and authorized foreign exchange dealers are allowed to buy and sell foreign currencies from/to their clients and among themselves at freely negotiated rates.\\n2. Banks shall report to the NBE the exchange rate used in their daily foreign exchange transactions by the end of the day, in a format specified in the \"Foreign Exchange Market Operations Guideline\".\\n3. The NBE shall compile the exchange rates used by all banks and authorized foreign exchange dealers in their daily transactions and publicly communicate an Indicative Daily Exchange Rate, calculated on the basis of these submissions, to the market by the start of the following business day.\\n4. The Indicative Daily Exchange Rate shall serve as a reference price, but not a mandatory transaction price, for banks and authorized foreign exchange dealers in their foreign exchange transactions at the start of the business day.\\n\\nThese principles promote a market-determined exchange rate, with banks and authorized foreign exchange dealers allowed to negotiate rates freely, and the NBE providing an indicative rate based on reported transactions.'"
      ]
     },
     "execution_count": 83,
     "metadata": {},
     "output_type": "execute_result"
    }
   ],
   "source": [
    "rag('what are the principles that govern foreign exchange rate determination?')"
   ]
  },
  {
   "cell_type": "code",
   "execution_count": null,
   "id": "191a3a43-3757-4123-81a5-5d4f08779952",
   "metadata": {},
   "outputs": [],
   "source": []
  }
 ],
 "metadata": {
  "kernelspec": {
   "display_name": "Python 3 (ipykernel)",
   "language": "python",
   "name": "python3"
  },
  "language_info": {
   "codemirror_mode": {
    "name": "ipython",
    "version": 3
   },
   "file_extension": ".py",
   "mimetype": "text/x-python",
   "name": "python",
   "nbconvert_exporter": "python",
   "pygments_lexer": "ipython3",
   "version": "3.11.7"
  }
 },
 "nbformat": 4,
 "nbformat_minor": 5
}
